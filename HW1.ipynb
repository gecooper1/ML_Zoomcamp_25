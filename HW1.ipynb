{
 "cells": [
  {
   "cell_type": "markdown",
   "id": "d9a941cc-ac45-4b30-aeec-bbab84ebba95",
   "metadata": {},
   "source": [
    "QUESTION 1"
   ]
  },
  {
   "cell_type": "code",
   "execution_count": 1,
   "id": "9488a52b-5c97-443d-8ce1-b2117638566a",
   "metadata": {},
   "outputs": [
    {
     "name": "stdout",
     "output_type": "stream",
     "text": [
      "2.3.2\n"
     ]
    }
   ],
   "source": [
    "# importing numpy pandas, obtaining version number of pandas\n",
    "\n",
    "import numpy as np\n",
    "import pandas as pd\n",
    "\n",
    "print(pd.__version__) # 2.3.2"
   ]
  },
  {
   "cell_type": "code",
   "execution_count": 2,
   "id": "fe437bf4-19a7-4e4e-ae67-52fb6a55ad12",
   "metadata": {},
   "outputs": [
    {
     "data": {
      "text/html": [
       "<div>\n",
       "<style scoped>\n",
       "    .dataframe tbody tr th:only-of-type {\n",
       "        vertical-align: middle;\n",
       "    }\n",
       "\n",
       "    .dataframe tbody tr th {\n",
       "        vertical-align: top;\n",
       "    }\n",
       "\n",
       "    .dataframe thead th {\n",
       "        text-align: right;\n",
       "    }\n",
       "</style>\n",
       "<table border=\"1\" class=\"dataframe\">\n",
       "  <thead>\n",
       "    <tr style=\"text-align: right;\">\n",
       "      <th></th>\n",
       "      <th>engine_displacement</th>\n",
       "      <th>num_cylinders</th>\n",
       "      <th>horsepower</th>\n",
       "      <th>vehicle_weight</th>\n",
       "      <th>acceleration</th>\n",
       "      <th>model_year</th>\n",
       "      <th>origin</th>\n",
       "      <th>fuel_type</th>\n",
       "      <th>drivetrain</th>\n",
       "      <th>num_doors</th>\n",
       "      <th>fuel_efficiency_mpg</th>\n",
       "    </tr>\n",
       "  </thead>\n",
       "  <tbody>\n",
       "    <tr>\n",
       "      <th>0</th>\n",
       "      <td>170</td>\n",
       "      <td>3.0</td>\n",
       "      <td>159.0</td>\n",
       "      <td>3413.433759</td>\n",
       "      <td>17.7</td>\n",
       "      <td>2003</td>\n",
       "      <td>Europe</td>\n",
       "      <td>Gasoline</td>\n",
       "      <td>All-wheel drive</td>\n",
       "      <td>0.0</td>\n",
       "      <td>13.231729</td>\n",
       "    </tr>\n",
       "    <tr>\n",
       "      <th>1</th>\n",
       "      <td>130</td>\n",
       "      <td>5.0</td>\n",
       "      <td>97.0</td>\n",
       "      <td>3149.664934</td>\n",
       "      <td>17.8</td>\n",
       "      <td>2007</td>\n",
       "      <td>USA</td>\n",
       "      <td>Gasoline</td>\n",
       "      <td>Front-wheel drive</td>\n",
       "      <td>0.0</td>\n",
       "      <td>13.688217</td>\n",
       "    </tr>\n",
       "    <tr>\n",
       "      <th>2</th>\n",
       "      <td>170</td>\n",
       "      <td>NaN</td>\n",
       "      <td>78.0</td>\n",
       "      <td>3079.038997</td>\n",
       "      <td>15.1</td>\n",
       "      <td>2018</td>\n",
       "      <td>Europe</td>\n",
       "      <td>Gasoline</td>\n",
       "      <td>Front-wheel drive</td>\n",
       "      <td>0.0</td>\n",
       "      <td>14.246341</td>\n",
       "    </tr>\n",
       "    <tr>\n",
       "      <th>3</th>\n",
       "      <td>220</td>\n",
       "      <td>4.0</td>\n",
       "      <td>NaN</td>\n",
       "      <td>2542.392402</td>\n",
       "      <td>20.2</td>\n",
       "      <td>2009</td>\n",
       "      <td>USA</td>\n",
       "      <td>Diesel</td>\n",
       "      <td>All-wheel drive</td>\n",
       "      <td>2.0</td>\n",
       "      <td>16.912736</td>\n",
       "    </tr>\n",
       "    <tr>\n",
       "      <th>4</th>\n",
       "      <td>210</td>\n",
       "      <td>1.0</td>\n",
       "      <td>140.0</td>\n",
       "      <td>3460.870990</td>\n",
       "      <td>14.4</td>\n",
       "      <td>2009</td>\n",
       "      <td>Europe</td>\n",
       "      <td>Gasoline</td>\n",
       "      <td>All-wheel drive</td>\n",
       "      <td>2.0</td>\n",
       "      <td>12.488369</td>\n",
       "    </tr>\n",
       "  </tbody>\n",
       "</table>\n",
       "</div>"
      ],
      "text/plain": [
       "   engine_displacement  num_cylinders  horsepower  vehicle_weight  \\\n",
       "0                  170            3.0       159.0     3413.433759   \n",
       "1                  130            5.0        97.0     3149.664934   \n",
       "2                  170            NaN        78.0     3079.038997   \n",
       "3                  220            4.0         NaN     2542.392402   \n",
       "4                  210            1.0       140.0     3460.870990   \n",
       "\n",
       "   acceleration  model_year  origin fuel_type         drivetrain  num_doors  \\\n",
       "0          17.7        2003  Europe  Gasoline    All-wheel drive        0.0   \n",
       "1          17.8        2007     USA  Gasoline  Front-wheel drive        0.0   \n",
       "2          15.1        2018  Europe  Gasoline  Front-wheel drive        0.0   \n",
       "3          20.2        2009     USA    Diesel    All-wheel drive        2.0   \n",
       "4          14.4        2009  Europe  Gasoline    All-wheel drive        2.0   \n",
       "\n",
       "   fuel_efficiency_mpg  \n",
       "0            13.231729  \n",
       "1            13.688217  \n",
       "2            14.246341  \n",
       "3            16.912736  \n",
       "4            12.488369  "
      ]
     },
     "execution_count": 2,
     "metadata": {},
     "output_type": "execute_result"
    }
   ],
   "source": [
    "# importing the 'Car Fuel Efficiency' dataset\n",
    "\n",
    "url = \"https://raw.githubusercontent.com/alexeygrigorev/datasets/master/car_fuel_efficiency.csv\"\n",
    "\n",
    "df = pd.read_csv(url)\n",
    "df.head()"
   ]
  },
  {
   "cell_type": "markdown",
   "id": "8ed9e8b0-781d-42c7-8637-9bdb3e9cb340",
   "metadata": {},
   "source": [
    "QUESTION 2"
   ]
  },
  {
   "cell_type": "code",
   "execution_count": 3,
   "id": "a797ae24-8961-4a7f-9edb-15dd50143126",
   "metadata": {},
   "outputs": [
    {
     "name": "stdout",
     "output_type": "stream",
     "text": [
      "Number of entries: 9704\n"
     ]
    }
   ],
   "source": [
    "# number of entries in dataset\n",
    "\n",
    "num_entries = len(df.index)\n",
    "print(\"Number of entries:\", num_entries) # 9704"
   ]
  },
  {
   "cell_type": "markdown",
   "id": "ba1cc510-28ec-49f0-8feb-5b90e54cffec",
   "metadata": {},
   "source": [
    "QUESTION 3"
   ]
  },
  {
   "cell_type": "code",
   "execution_count": 4,
   "id": "aee656af-0cb3-43a1-a4d1-b426289d1b8f",
   "metadata": {},
   "outputs": [
    {
     "name": "stdout",
     "output_type": "stream",
     "text": [
      "fuel_type\n",
      "Gasoline    4898\n",
      "Diesel      4806\n",
      "Name: count, dtype: int64\n",
      "Number of fuel types: 2\n"
     ]
    }
   ],
   "source": [
    "# number of fuel types in dataset\n",
    "\n",
    "fuel_counts = df['fuel_type'].value_counts()\n",
    "print(fuel_counts) # no missing entries for fuel type\n",
    "\n",
    "print(\"Number of fuel types:\", len(fuel_counts)) # 2"
   ]
  },
  {
   "cell_type": "markdown",
   "id": "be18e4cb-f687-4656-881c-8837cc7e5284",
   "metadata": {},
   "source": [
    "QUESTION 4"
   ]
  },
  {
   "cell_type": "code",
   "execution_count": 5,
   "id": "e3539c08-6419-49dd-bc7d-8d50441bfd93",
   "metadata": {},
   "outputs": [
    {
     "name": "stdout",
     "output_type": "stream",
     "text": [
      "Columns with missing values: ['num_cylinders', 'horsepower', 'acceleration', 'num_doors']\n"
     ]
    }
   ],
   "source": [
    "# number of columns with missing values\n",
    "\n",
    "columns_with_missing_values = [col for col in df.columns if df[col].isnull().any()]\n",
    "print(\"Columns with missing values:\", columns_with_missing_values) # 4 columns"
   ]
  },
  {
   "cell_type": "code",
   "execution_count": 6,
   "id": "551e4c04-b463-4a44-9c9f-6fbff142f8da",
   "metadata": {},
   "outputs": [
    {
     "data": {
      "text/plain": [
       "num_cylinders    482\n",
       "horsepower       708\n",
       "acceleration     930\n",
       "num_doors        502\n",
       "dtype: int64"
      ]
     },
     "execution_count": 6,
     "metadata": {},
     "output_type": "execute_result"
    }
   ],
   "source": [
    "# number of missing values for each column with missing values\n",
    "\n",
    "df[columns_with_missing_values].isnull().sum()"
   ]
  },
  {
   "cell_type": "markdown",
   "id": "39580377-0c99-4e04-8466-3b4bd421e5d6",
   "metadata": {},
   "source": [
    "QUESTION 5"
   ]
  },
  {
   "cell_type": "code",
   "execution_count": 7,
   "id": "655e401b-6ba4-44a3-b6ce-faa29d699c1c",
   "metadata": {},
   "outputs": [
    {
     "name": "stdout",
     "output_type": "stream",
     "text": [
      "Maximum fuel efficiency of cars from Asia in miles per gallon: 23.759122836520497\n"
     ]
    }
   ],
   "source": [
    "# maximum fuel efficiency of cars from Asia\n",
    "\n",
    "df_asia = df[\n",
    "    df['origin'] == 'Asia'\n",
    "] # subframe of the dataset of cars from Asia\n",
    "\n",
    "print(\"Maximum fuel efficiency of cars from Asia in miles per gallon:\", df_asia['fuel_efficiency_mpg'].max()) # 23.75"
   ]
  },
  {
   "cell_type": "markdown",
   "id": "aeef1e75-70d9-4c4d-97f4-d65ec983829f",
   "metadata": {},
   "source": [
    "QUESTION 6"
   ]
  },
  {
   "cell_type": "code",
   "execution_count": 8,
   "id": "91f5f2a3-ed83-41c5-b710-0c77594f3a35",
   "metadata": {},
   "outputs": [
    {
     "name": "stdout",
     "output_type": "stream",
     "text": [
      "Median value of 'horsepower': 149.0\n"
     ]
    }
   ],
   "source": [
    "# median value of 'horsepower' before filling 'NaN' entries\n",
    "\n",
    "print(\"Median value of 'horsepower':\", df['horsepower'].median()) # 149.0"
   ]
  },
  {
   "cell_type": "code",
   "execution_count": 9,
   "id": "4d030f34-7c64-4824-b884-21908549d916",
   "metadata": {},
   "outputs": [
    {
     "name": "stdout",
     "output_type": "stream",
     "text": [
      "New median value of 'horsepower': 152.0\n"
     ]
    }
   ],
   "source": [
    "# median value of 'horsepower' after filling 'NaN' entries with most frequent value\n",
    "\n",
    "modal_horsepower = df['horsepower'].mode()[0] # most frequent value of 'horsepower'\n",
    "df_horsepower_fillna = df['horsepower'].fillna(value=modal_horsepower) # column of horsepowers with 'NaN' replaced with most frequent value\n",
    "\n",
    "print(\"New median value of 'horsepower':\", df_horsepower_fillna.median()) # 152.0"
   ]
  },
  {
   "cell_type": "markdown",
   "id": "d4632060-a966-4ad1-896f-26797dedd10c",
   "metadata": {},
   "source": [
    "QUESTION 7"
   ]
  },
  {
   "cell_type": "code",
   "execution_count": 10,
   "id": "51067cde-8b38-47b2-9b22-fbc5fbd4a31a",
   "metadata": {},
   "outputs": [
    {
     "name": "stdout",
     "output_type": "stream",
     "text": [
      "Sum of weights: 0.5187709081074025\n"
     ]
    }
   ],
   "source": [
    "# linear regression weights for 'vehicle_weight' and 'model_year' for first seven Asian cars\n",
    "\n",
    "# dataframe of vehicle weights and model years for the first seven cars from Asia\n",
    "df_1 = df_asia[['vehicle_weight', 'model_year']].reset_index(drop=True).head(7)\n",
    "\n",
    "# extracting the underlying NumPy array\n",
    "X = df_1.values\n",
    "\n",
    "# computing the matrix X^T * X\n",
    "XTX = X.T.dot(X)\n",
    "\n",
    "# inverting XTX\n",
    "XTX_inv = np.linalg.inv(XTX)\n",
    "\n",
    "# creating the array y\n",
    "y = np.array([1100, 1300, 800, 900, 1000, 1100, 1200])\n",
    "\n",
    "# computing the array of weights w\n",
    "w = XTX_inv.dot(X.T).dot(y)\n",
    "\n",
    "# computing the sum of the weights\n",
    "print(\"Sum of weights:\", np.sum(w)) # 0.518..."
   ]
  }
 ],
 "metadata": {
  "kernelspec": {
   "display_name": "Python 3 (ipykernel)",
   "language": "python",
   "name": "python3"
  },
  "language_info": {
   "codemirror_mode": {
    "name": "ipython",
    "version": 3
   },
   "file_extension": ".py",
   "mimetype": "text/x-python",
   "name": "python",
   "nbconvert_exporter": "python",
   "pygments_lexer": "ipython3",
   "version": "3.12.11"
  }
 },
 "nbformat": 4,
 "nbformat_minor": 5
}
