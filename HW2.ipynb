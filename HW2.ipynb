{
 "cells": [
  {
   "cell_type": "code",
   "execution_count": 1,
   "id": "8922e288-1d39-41ed-8877-5108971d43d6",
   "metadata": {},
   "outputs": [],
   "source": [
    "# importing packages\n",
    "\n",
    "import numpy as np\n",
    "import pandas as pd\n",
    "\n",
    "import seaborn as sns\n",
    "import matplotlib.pyplot as plt"
   ]
  },
  {
   "cell_type": "code",
   "execution_count": 2,
   "id": "fc93a117-ee1f-4436-9900-8d27a5d41f79",
   "metadata": {},
   "outputs": [
    {
     "data": {
      "text/html": [
       "<div>\n",
       "<style scoped>\n",
       "    .dataframe tbody tr th:only-of-type {\n",
       "        vertical-align: middle;\n",
       "    }\n",
       "\n",
       "    .dataframe tbody tr th {\n",
       "        vertical-align: top;\n",
       "    }\n",
       "\n",
       "    .dataframe thead th {\n",
       "        text-align: right;\n",
       "    }\n",
       "</style>\n",
       "<table border=\"1\" class=\"dataframe\">\n",
       "  <thead>\n",
       "    <tr style=\"text-align: right;\">\n",
       "      <th></th>\n",
       "      <th>engine_displacement</th>\n",
       "      <th>num_cylinders</th>\n",
       "      <th>horsepower</th>\n",
       "      <th>vehicle_weight</th>\n",
       "      <th>acceleration</th>\n",
       "      <th>model_year</th>\n",
       "      <th>origin</th>\n",
       "      <th>fuel_type</th>\n",
       "      <th>drivetrain</th>\n",
       "      <th>num_doors</th>\n",
       "      <th>fuel_efficiency_mpg</th>\n",
       "    </tr>\n",
       "  </thead>\n",
       "  <tbody>\n",
       "    <tr>\n",
       "      <th>0</th>\n",
       "      <td>170</td>\n",
       "      <td>3.0</td>\n",
       "      <td>159.0</td>\n",
       "      <td>3413.433759</td>\n",
       "      <td>17.7</td>\n",
       "      <td>2003</td>\n",
       "      <td>Europe</td>\n",
       "      <td>Gasoline</td>\n",
       "      <td>All-wheel drive</td>\n",
       "      <td>0.0</td>\n",
       "      <td>13.231729</td>\n",
       "    </tr>\n",
       "    <tr>\n",
       "      <th>1</th>\n",
       "      <td>130</td>\n",
       "      <td>5.0</td>\n",
       "      <td>97.0</td>\n",
       "      <td>3149.664934</td>\n",
       "      <td>17.8</td>\n",
       "      <td>2007</td>\n",
       "      <td>USA</td>\n",
       "      <td>Gasoline</td>\n",
       "      <td>Front-wheel drive</td>\n",
       "      <td>0.0</td>\n",
       "      <td>13.688217</td>\n",
       "    </tr>\n",
       "    <tr>\n",
       "      <th>2</th>\n",
       "      <td>170</td>\n",
       "      <td>NaN</td>\n",
       "      <td>78.0</td>\n",
       "      <td>3079.038997</td>\n",
       "      <td>15.1</td>\n",
       "      <td>2018</td>\n",
       "      <td>Europe</td>\n",
       "      <td>Gasoline</td>\n",
       "      <td>Front-wheel drive</td>\n",
       "      <td>0.0</td>\n",
       "      <td>14.246341</td>\n",
       "    </tr>\n",
       "    <tr>\n",
       "      <th>3</th>\n",
       "      <td>220</td>\n",
       "      <td>4.0</td>\n",
       "      <td>NaN</td>\n",
       "      <td>2542.392402</td>\n",
       "      <td>20.2</td>\n",
       "      <td>2009</td>\n",
       "      <td>USA</td>\n",
       "      <td>Diesel</td>\n",
       "      <td>All-wheel drive</td>\n",
       "      <td>2.0</td>\n",
       "      <td>16.912736</td>\n",
       "    </tr>\n",
       "    <tr>\n",
       "      <th>4</th>\n",
       "      <td>210</td>\n",
       "      <td>1.0</td>\n",
       "      <td>140.0</td>\n",
       "      <td>3460.870990</td>\n",
       "      <td>14.4</td>\n",
       "      <td>2009</td>\n",
       "      <td>Europe</td>\n",
       "      <td>Gasoline</td>\n",
       "      <td>All-wheel drive</td>\n",
       "      <td>2.0</td>\n",
       "      <td>12.488369</td>\n",
       "    </tr>\n",
       "  </tbody>\n",
       "</table>\n",
       "</div>"
      ],
      "text/plain": [
       "   engine_displacement  num_cylinders  horsepower  vehicle_weight  \\\n",
       "0                  170            3.0       159.0     3413.433759   \n",
       "1                  130            5.0        97.0     3149.664934   \n",
       "2                  170            NaN        78.0     3079.038997   \n",
       "3                  220            4.0         NaN     2542.392402   \n",
       "4                  210            1.0       140.0     3460.870990   \n",
       "\n",
       "   acceleration  model_year  origin fuel_type         drivetrain  num_doors  \\\n",
       "0          17.7        2003  Europe  Gasoline    All-wheel drive        0.0   \n",
       "1          17.8        2007     USA  Gasoline  Front-wheel drive        0.0   \n",
       "2          15.1        2018  Europe  Gasoline  Front-wheel drive        0.0   \n",
       "3          20.2        2009     USA    Diesel    All-wheel drive        2.0   \n",
       "4          14.4        2009  Europe  Gasoline    All-wheel drive        2.0   \n",
       "\n",
       "   fuel_efficiency_mpg  \n",
       "0            13.231729  \n",
       "1            13.688217  \n",
       "2            14.246341  \n",
       "3            16.912736  \n",
       "4            12.488369  "
      ]
     },
     "execution_count": 2,
     "metadata": {},
     "output_type": "execute_result"
    }
   ],
   "source": [
    "# importing the 'Car Fuel Efficiency' dataset\n",
    "\n",
    "url = \"https://raw.githubusercontent.com/alexeygrigorev/datasets/master/car_fuel_efficiency.csv\"\n",
    "\n",
    "df = pd.read_csv(url)\n",
    "df.head()"
   ]
  },
  {
   "cell_type": "code",
   "execution_count": 3,
   "id": "907b005a-249e-494a-a081-3ebb1f69840d",
   "metadata": {},
   "outputs": [
    {
     "data": {
      "text/html": [
       "<div>\n",
       "<style scoped>\n",
       "    .dataframe tbody tr th:only-of-type {\n",
       "        vertical-align: middle;\n",
       "    }\n",
       "\n",
       "    .dataframe tbody tr th {\n",
       "        vertical-align: top;\n",
       "    }\n",
       "\n",
       "    .dataframe thead th {\n",
       "        text-align: right;\n",
       "    }\n",
       "</style>\n",
       "<table border=\"1\" class=\"dataframe\">\n",
       "  <thead>\n",
       "    <tr style=\"text-align: right;\">\n",
       "      <th></th>\n",
       "      <th>engine_displacement</th>\n",
       "      <th>horsepower</th>\n",
       "      <th>vehicle_weight</th>\n",
       "      <th>model_year</th>\n",
       "      <th>fuel_efficiency_mpg</th>\n",
       "    </tr>\n",
       "  </thead>\n",
       "  <tbody>\n",
       "    <tr>\n",
       "      <th>0</th>\n",
       "      <td>170</td>\n",
       "      <td>159.0</td>\n",
       "      <td>3413.433759</td>\n",
       "      <td>2003</td>\n",
       "      <td>13.231729</td>\n",
       "    </tr>\n",
       "    <tr>\n",
       "      <th>1</th>\n",
       "      <td>130</td>\n",
       "      <td>97.0</td>\n",
       "      <td>3149.664934</td>\n",
       "      <td>2007</td>\n",
       "      <td>13.688217</td>\n",
       "    </tr>\n",
       "    <tr>\n",
       "      <th>2</th>\n",
       "      <td>170</td>\n",
       "      <td>78.0</td>\n",
       "      <td>3079.038997</td>\n",
       "      <td>2018</td>\n",
       "      <td>14.246341</td>\n",
       "    </tr>\n",
       "    <tr>\n",
       "      <th>3</th>\n",
       "      <td>220</td>\n",
       "      <td>NaN</td>\n",
       "      <td>2542.392402</td>\n",
       "      <td>2009</td>\n",
       "      <td>16.912736</td>\n",
       "    </tr>\n",
       "    <tr>\n",
       "      <th>4</th>\n",
       "      <td>210</td>\n",
       "      <td>140.0</td>\n",
       "      <td>3460.870990</td>\n",
       "      <td>2009</td>\n",
       "      <td>12.488369</td>\n",
       "    </tr>\n",
       "  </tbody>\n",
       "</table>\n",
       "</div>"
      ],
      "text/plain": [
       "   engine_displacement  horsepower  vehicle_weight  model_year  \\\n",
       "0                  170       159.0     3413.433759        2003   \n",
       "1                  130        97.0     3149.664934        2007   \n",
       "2                  170        78.0     3079.038997        2018   \n",
       "3                  220         NaN     2542.392402        2009   \n",
       "4                  210       140.0     3460.870990        2009   \n",
       "\n",
       "   fuel_efficiency_mpg  \n",
       "0            13.231729  \n",
       "1            13.688217  \n",
       "2            14.246341  \n",
       "3            16.912736  \n",
       "4            12.488369  "
      ]
     },
     "execution_count": 3,
     "metadata": {},
     "output_type": "execute_result"
    }
   ],
   "source": [
    "# preparing the dataset\n",
    "\n",
    "df = df[['engine_displacement', 'horsepower', 'vehicle_weight', 'model_year', 'fuel_efficiency_mpg']]\n",
    "df.head()"
   ]
  },
  {
   "cell_type": "code",
   "execution_count": 4,
   "id": "24a355e5-c8b2-45e9-be5f-9bcbacd9f1fa",
   "metadata": {},
   "outputs": [
    {
     "name": "stdout",
     "output_type": "stream",
     "text": [
      "Skewness of 'fuel_efficiency_mpg': -0.012062219273507958\n",
      "Excess kurtosis of 'fuel_efficiency_mpg': 0.022732244497634557\n"
     ]
    }
   ],
   "source": [
    "# skewness and excess kurtosis of 'fuel_efficiency_mpg'\n",
    "\n",
    "print(\"Skewness of 'fuel_efficiency_mpg':\", df['fuel_efficiency_mpg'].skew()) # -0.012\n",
    "print(\"Excess kurtosis of 'fuel_efficiency_mpg':\", df['fuel_efficiency_mpg'].kurt()) # 0.023 => leptokurtic distribution"
   ]
  },
  {
   "cell_type": "code",
   "execution_count": 5,
   "id": "502a5657-a209-4677-aff6-d67b2b0500e9",
   "metadata": {},
   "outputs": [
    {
     "data": {
      "image/png": "[encoded data removed]",
      "text/plain": [
       "<Figure size 600x400 with 1 Axes>"
      ]
     },
     "metadata": {},
     "output_type": "display_data"
    }
   ],
   "source": [
    "# box plot of 'fuel_efficiency_mpg'\n",
    "\n",
    "plt.figure(figsize=(6, 4))\n",
    "\n",
    "df['fuel_efficiency_mpg'].plot(kind='box', title='Box Plot of Fuel Efficiency in Miles per Gallon')\n",
    "plt.ylabel('Fuel Efficiency')\n",
    "plt.xlabel(' ')\n",
    "\n",
    "plt.show()"
   ]
  },
  {
   "cell_type": "code",
   "execution_count": 6,
   "id": "ddf26917-8326-4af8-b74e-62bd82a27cc5",
   "metadata": {},
   "outputs": [
    {
     "data": {
      "image/png": "[encoded data removed]",
      "text/plain": [
       "<Figure size 600x400 with 1 Axes>"
      ]
     },
     "metadata": {},
     "output_type": "display_data"
    }
   ],
   "source": [
    "# histogram of 'fuel_efficiency_mpg'\n",
    "\n",
    "plt.figure(figsize=(6, 4))\n",
    "\n",
    "sns.histplot(df['fuel_efficiency_mpg'], bins=40, alpha=1)\n",
    "plt.ylabel('Frequency')\n",
    "plt.xlabel('Fuel Efficiency')\n",
    "plt.title('Histogram of Fuel Efficiency in Miles per Gallon')\n",
    "\n",
    "plt.show()"
   ]
  },
  {
   "cell_type": "markdown",
   "id": "1b61d032-d299-45f7-9460-9a8a12152ffc",
   "metadata": {},
   "source": [
    "QUESTION 1"
   ]
  },
  {
   "cell_type": "code",
   "execution_count": 7,
   "id": "98e877a2-d311-4b65-9947-0794853184a3",
   "metadata": {},
   "outputs": [
    {
     "data": {
      "text/plain": [
       "engine_displacement      0\n",
       "horsepower             708\n",
       "vehicle_weight           0\n",
       "model_year               0\n",
       "fuel_efficiency_mpg      0\n",
       "dtype: int64"
      ]
     },
     "execution_count": 7,
     "metadata": {},
     "output_type": "execute_result"
    }
   ],
   "source": [
    "# columns with missing values\n",
    "\n",
    "df.isnull().sum() # only column with missing entries is 'horsepower'"
   ]
  },
  {
   "cell_type": "markdown",
   "id": "33fe1d1c-1732-4e27-8a28-e747e43bf9eb",
   "metadata": {},
   "source": [
    "QUESTION 2"
   ]
  },
  {
   "cell_type": "code",
   "execution_count": 8,
   "id": "f06de885-9f57-4508-af33-2585ee9f180d",
   "metadata": {},
   "outputs": [
    {
     "name": "stdout",
     "output_type": "stream",
     "text": [
      "Median value of 'horsepower': 149.0\n"
     ]
    }
   ],
   "source": [
    "# median value for 'horsepower'\n",
    "\n",
    "print(\"Median value of 'horsepower':\", df['horsepower'].median()) # 149"
   ]
  },
  {
   "cell_type": "markdown",
   "id": "1d3f35c8-ce9b-43b5-b89b-960007efa5a5",
   "metadata": {},
   "source": [
    "QUESTION 3"
   ]
  },
  {
   "cell_type": "code",
   "execution_count": 9,
   "id": "93432ec6-c578-4ee2-8569-2cb41121f91a",
   "metadata": {},
   "outputs": [],
   "source": [
    "# preparing and splitting the dataset into training/testing/validation, with a 60%/20%/20% distribution\n",
    "\n",
    "np.random.seed(42) # random seed: 42\n",
    "\n",
    "n = len(df)\n",
    "\n",
    "n_val = int(0.2 * n)\n",
    "n_test = int(0.2 * n)\n",
    "n_train = n - (n_val + n_test)\n",
    "\n",
    "idx = np.arange(n)\n",
    "np.random.shuffle(idx)\n",
    "\n",
    "df_shuffled = df.iloc[idx]\n",
    "\n",
    "df_train = df_shuffled.iloc[:n_train].copy()\n",
    "df_val = df_shuffled.iloc[n_train:n_train+n_val].copy()\n",
    "df_test = df_shuffled.iloc[n_train+n_val:].copy()\n",
    "\n",
    "y_train = df_train['fuel_efficiency_mpg'].values\n",
    "y_val = df_val['fuel_efficiency_mpg'].values\n",
    "y_test = df_test['fuel_efficiency_mpg'].values\n",
    "\n",
    "del df_train['fuel_efficiency_mpg']\n",
    "del df_val['fuel_efficiency_mpg']\n",
    "del df_test['fuel_efficiency_mpg']"
   ]
  },
  {
   "cell_type": "code",
   "execution_count": 10,
   "id": "7d3f061b-aee1-4dc5-ab69-c984b23b5017",
   "metadata": {},
   "outputs": [],
   "source": [
    "# linear regression training function\n",
    "\n",
    "def train_linear_regression(X, y):\n",
    "    ones = np.ones(X.shape[0])\n",
    "    X = np.column_stack([ones, X])\n",
    "\n",
    "    XTX = X.T.dot(X)\n",
    "    XTX_inv = np.linalg.inv(XTX)\n",
    "    w = XTX_inv.dot(X.T).dot(y)\n",
    "    \n",
    "    return w[0], w[1:]"
   ]
  },
  {
   "cell_type": "code",
   "execution_count": 11,
   "id": "a5f18fa4-9683-4a6b-a5fb-92de6cded535",
   "metadata": {},
   "outputs": [],
   "source": [
    "# functions to prepare input array, first with filling 'NaN' values of 'horsepower' with 0, second with mean of 'horsepower' in training dataset\n",
    "\n",
    "def prepare_X(df):\n",
    "    df = df.fillna(0)\n",
    "    X = df.values\n",
    "    return X\n",
    "\n",
    "mean_horsepower = df_train['horsepower'].mean()\n",
    "\n",
    "def prepare_X_mean(df):\n",
    "    df = df.fillna(mean_horsepower)\n",
    "    X = df.values\n",
    "    return X"
   ]
  },
  {
   "cell_type": "code",
   "execution_count": 12,
   "id": "ebcb31af-c065-48ba-a294-c62f29653d07",
   "metadata": {},
   "outputs": [],
   "source": [
    "# function to calculate RMSE\n",
    "\n",
    "def rmse(y, y_pred):\n",
    "    error = y_pred - y\n",
    "    mse = (error ** 2).mean()\n",
    "    return np.sqrt(mse)"
   ]
  },
  {
   "cell_type": "code",
   "execution_count": 13,
   "id": "904462bf-4088-4381-ba5b-465b5d81f14d",
   "metadata": {},
   "outputs": [
    {
     "name": "stdout",
     "output_type": "stream",
     "text": [
      "RMSE to 2dp when filling 'NaN' with 0: 0.52\n"
     ]
    }
   ],
   "source": [
    "# training a linear regression model with 'NaN' values of 'horsepower' filled in with 0, then evaluating the model on the validation dataset using RMSE\n",
    "\n",
    "X_train = prepare_X(df_train)\n",
    "w_0, w = train_linear_regression(X_train, y_train)\n",
    "\n",
    "X_val = prepare_X(df_val)\n",
    "y_pred = w_0 + X_val.dot(w)\n",
    "\n",
    "print(\"RMSE to 2dp when filling 'NaN' with 0:\", round(rmse(y_val, y_pred), 2)) # 0.52"
   ]
  },
  {
   "cell_type": "code",
   "execution_count": 14,
   "id": "024ea976-1f48-418f-96c9-393196e16264",
   "metadata": {},
   "outputs": [
    {
     "name": "stdout",
     "output_type": "stream",
     "text": [
      "RMSE to 2dp when filling 'NaN' with mean: 0.46\n"
     ]
    }
   ],
   "source": [
    "# training a linear regression model with 'NaN' values of 'horsepower' filled in with mean, then evaluating the model on the validation dataset using RMSE\n",
    "\n",
    "\n",
    "X_train = prepare_X_mean(df_train)\n",
    "w_0, w = train_linear_regression(X_train, y_train)\n",
    "\n",
    "X_val = prepare_X_mean(df_val)\n",
    "y_pred = w_0 + X_val.dot(w)\n",
    "\n",
    "print(\"RMSE to 2dp when filling 'NaN' with mean:\", round(rmse(y_val, y_pred), 2)) # 0.46"
   ]
  },
  {
   "cell_type": "markdown",
   "id": "c5b5e6fa-14f4-49ea-a971-df2b2743ca88",
   "metadata": {},
   "source": [
    "QUESTION 4"
   ]
  },
  {
   "cell_type": "code",
   "execution_count": 15,
   "id": "ec1fbab0-d907-42ce-a5e5-e264a7d87ba8",
   "metadata": {},
   "outputs": [],
   "source": [
    "# regularised linear regression training function\n",
    "\n",
    "def train_linear_regression_reg(X, y, r=0.0):\n",
    "    ones = np.ones(X.shape[0])\n",
    "    X = np.column_stack([ones, X])\n",
    "\n",
    "    XTX = X.T.dot(X)\n",
    "    reg = r * np.eye(XTX.shape[0])\n",
    "    XTX = XTX + reg\n",
    "\n",
    "    XTX_inv = np.linalg.inv(XTX)\n",
    "    w = XTX_inv.dot(X.T).dot(y)\n",
    "    \n",
    "    return w[0], w[1:]"
   ]
  },
  {
   "cell_type": "code",
   "execution_count": 16,
   "id": "fdc0cdf2-df83-48db-a39e-eef64e67122d",
   "metadata": {},
   "outputs": [
    {
     "name": "stdout",
     "output_type": "stream",
     "text": [
      "RMSE to with r = 0 : 0.5173782638837691\n",
      "RMSE to with r = 0.01 : 0.517111552577407\n",
      "RMSE to with r = 0.1 : 0.5187525130701819\n",
      "RMSE to with r = 1 : 0.5222348802092905\n",
      "RMSE to with r = 5 : 0.5228916092823562\n",
      "RMSE to with r = 10 : 0.52298129796366\n",
      "RMSE to with r = 100 : 0.523063623381993\n"
     ]
    }
   ],
   "source": [
    "# training regularised linear regression models for various values of r, and computing RMSE between y_val and y_pred\n",
    "\n",
    "X_train = prepare_X(df_train)\n",
    "X_val = prepare_X(df_val)\n",
    "\n",
    "for r in [0, 0.01, 0.1, 1, 5, 10, 100]:\n",
    "    w_0, w = train_linear_regression_reg(X_train, y_train, r=r)\n",
    "    y_pred = w_0 + X_val.dot(w)\n",
    "    print(\"RMSE to with r =\", r, \":\", rmse(y_val, y_pred)) # best value of r is r = 0.01"
   ]
  },
  {
   "cell_type": "markdown",
   "id": "71779628-f68d-4455-ab76-aa35fea4d0ae",
   "metadata": {},
   "source": [
    "QUESTION 5"
   ]
  },
  {
   "cell_type": "code",
   "execution_count": 17,
   "id": "b0f84e99-8109-449f-92da-c30e5c2f15cc",
   "metadata": {},
   "outputs": [
    {
     "name": "stdout",
     "output_type": "stream",
     "text": [
      "Standard deviation of the RMSEs to 3dp: 0.007\n"
     ]
    }
   ],
   "source": [
    "# training linear regression models with varying random seeds (without regularisation)\n",
    "\n",
    "rmse_array = [] # array to store RMSEs\n",
    "\n",
    "for seed in range(10):\n",
    "    np.random.seed(seed)\n",
    "\n",
    "    idx = np.arange(n)\n",
    "    np.random.shuffle(idx)\n",
    "\n",
    "    df_shuffled = df.iloc[idx]\n",
    "\n",
    "    df_train = df_shuffled.iloc[:n_train].copy()\n",
    "    df_val = df_shuffled.iloc[n_train:n_train+n_val].copy()\n",
    "    df_test = df_shuffled.iloc[n_train+n_val:].copy()\n",
    "\n",
    "    y_train = df_train['fuel_efficiency_mpg'].values\n",
    "    y_val = df_val['fuel_efficiency_mpg'].values\n",
    "    y_test = df_test['fuel_efficiency_mpg'].values\n",
    "\n",
    "    del df_train['fuel_efficiency_mpg']\n",
    "    del df_val['fuel_efficiency_mpg']\n",
    "    del df_test['fuel_efficiency_mpg']\n",
    "\n",
    "    X_train = prepare_X(df_train)\n",
    "    X_val = prepare_X(df_val)\n",
    "\n",
    "    w_0, w = train_linear_regression(X_train, y_train)\n",
    "    y_pred = w_0 + X_val.dot(w)\n",
    "\n",
    "    rmse_value = rmse(y_val, y_pred)\n",
    "    rmse_array.append(rmse_value) # adding the RMSE value to our array\n",
    "\n",
    "print(\"Standard deviation of the RMSEs to 3dp:\", round(np.std(rmse_array), 3)) # 0.007"
   ]
  },
  {
   "cell_type": "markdown",
   "id": "71073c9f-e127-41eb-b093-ade624a16cae",
   "metadata": {},
   "source": [
    "QUESTION 6"
   ]
  },
  {
   "cell_type": "code",
   "execution_count": 18,
   "id": "ae044362-12d5-42d0-9537-98dc53925c6c",
   "metadata": {},
   "outputs": [
    {
     "name": "stdout",
     "output_type": "stream",
     "text": [
      "RMSE on the test dataset: 0.5156261299162689\n"
     ]
    }
   ],
   "source": [
    "# training a regularised linear regression model with r = 0.001, after combining training and validation sets, and computing RMSE on the test dataset\n",
    "\n",
    "np.random.seed(9)\n",
    "\n",
    "n = len(df)\n",
    "\n",
    "n_val = int(0.2 * n)\n",
    "n_test = int(0.2 * n)\n",
    "n_train = n - (n_val + n_test)\n",
    "\n",
    "idx = np.arange(n)\n",
    "np.random.shuffle(idx)\n",
    "\n",
    "df_shuffled = df.iloc[idx]\n",
    "\n",
    "df_train = df_shuffled.iloc[:n_train].copy()\n",
    "df_val = df_shuffled.iloc[n_train:n_train+n_val].copy()\n",
    "df_test = df_shuffled.iloc[n_train+n_val:].copy()\n",
    "\n",
    "df_full_train = pd.concat([df_train, df_val]).reset_index(drop=True) # combining the training and validation datasets\n",
    "\n",
    "y_full_train = df_full_train['fuel_efficiency_mpg'].values\n",
    "y_test = df_test['fuel_efficiency_mpg'].values\n",
    "\n",
    "del df_full_train['fuel_efficiency_mpg']\n",
    "del df_test['fuel_efficiency_mpg']\n",
    "\n",
    "X_full_train = prepare_X(df_full_train)\n",
    "X_test = prepare_X(df_test)\n",
    "\n",
    "w_0, w = train_linear_regression_reg(X_full_train, y_full_train, r=0.001)\n",
    "y_pred = w_0 + X_test.dot(w)\n",
    "\n",
    "rmse_value = rmse(y_test, y_pred)\n",
    "\n",
    "print(\"RMSE on the test dataset:\", rmse_value) # 0.5156"
   ]
  }
 ],
 "metadata": {
  "kernelspec": {
   "display_name": "ml-zoomcamp",
   "language": "python",
   "name": "python3"
  },
  "language_info": {
   "codemirror_mode": {
    "name": "ipython",
    "version": 3
   },
   "file_extension": ".py",
   "mimetype": "text/x-python",
   "name": "python",
   "nbconvert_exporter": "python",
   "pygments_lexer": "ipython3",
   "version": "3.12.11"
  }
 },
 "nbformat": 4,
 "nbformat_minor": 5
}
